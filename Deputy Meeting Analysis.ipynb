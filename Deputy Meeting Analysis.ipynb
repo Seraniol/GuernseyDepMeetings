{
 "cells": [
  {
   "cell_type": "markdown",
   "metadata": {},
   "source": [
    "# Guernsey Deputy Meetings - Hansard Text Mining"
   ]
  },
  {
   "cell_type": "markdown",
   "metadata": {},
   "source": [
    "*A learning exercise with the aim of using text mining in Python as exploratory data analysis to identify patterns in Deputy meetings and provide a comprehensive source of information of the opinions expressed by deputies*"
   ]
  },
  {
   "cell_type": "markdown",
   "metadata": {},
   "source": [
    "\n",
    "## Intro\n",
    "I've chosen to persue this as the steps involved require a mix of disciplines, all of which should help expand my skills in both practical performance of analytics as well as code management\n",
    "\n",
    "**Storage and Management**  \n",
    "SharePoint will be used to store files but they will be primarily managed in a GitHub repository\n",
    "\n",
    "**Presentation**  \n",
    "Jupyter Notebooks will be used in order to document any decisions made and the process undertaken to analyse or manipulate data\n",
    "\n",
    "**Data Collection**  \n",
    "Most initial data will be imported manually at this stage, but web scraping might be investigated as a later exercise\n",
    "\n",
    "**Data Transformation and Analysis**  \n",
    "Initial data transformation and analysis will be performed in Python. Some presentation may be done in Power BI"
   ]
  },
  {
   "cell_type": "markdown",
   "metadata": {},
   "source": [
    "## Data Collection"
   ]
  },
  {
   "cell_type": "markdown",
   "metadata": {},
   "source": [
    "There are a number of options for collecting data on discussions held during States meetings, the main ones considered for identifying opinions expressed by Deputies are:\n",
    "\n",
    "1. The audio from recordings available through Microsoft Teams\n",
    "2. A summary Excel or PDF log (used in Meeting Analysis.pbix to identify time spent speaking by each Deputy)\n",
    "3. A verbatim official PDF report of proceedings, named a 'Hansard'\n",
    "\n",
    "The quality of the audio recordings varies wildly and, while interesting to look at in future, is unlikely to produce results due to issues in the audio quality.  \n",
    "The Excel logs are useful for determining the length of time spent speaking, but lacks sufficient detail to offer further meaningful analysis.  \n",
    "Therefore, the Hansard reports have been selected for analysis. \n",
    "\n",
    "Only final Hansard reports will be used and will be collected manually from each meeting page which can be accessed through the [States meeting information index](https://www.gov.gg/article/163276/States-Meeting-information-index)\n",
    "\n"
   ]
  },
  {
   "cell_type": "markdown",
   "metadata": {},
   "source": [
    " "
   ]
  },
  {
   "cell_type": "markdown",
   "metadata": {},
   "source": [
    "### Import PDFs\n",
    "Import Hansard files and use PDF Miner to begin exploring text. \n",
    "Ultimately the aim is to convert this intro a structured format where each record is either a sentence or contiguous speech from one deputy, "
   ]
  },
  {
   "cell_type": "code",
   "execution_count": null,
   "metadata": {},
   "outputs": [],
   "source": []
  }
 ],
 "metadata": {
  "kernelspec": {
   "display_name": "Python 3",
   "language": "python",
   "name": "python3"
  },
  "language_info": {
   "codemirror_mode": {
    "name": "ipython",
    "version": 3
   },
   "file_extension": ".py",
   "mimetype": "text/x-python",
   "name": "python",
   "nbconvert_exporter": "python",
   "pygments_lexer": "ipython3",
   "version": "3.9.0"
  }
 },
 "nbformat": 4,
 "nbformat_minor": 4
}
