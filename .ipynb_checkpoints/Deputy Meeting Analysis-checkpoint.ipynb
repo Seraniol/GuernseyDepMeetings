{
 "cells": [
  {
   "cell_type": "markdown",
   "metadata": {},
   "source": [
    "# Guernsey Deputy Meetings - Hansard Text Mining"
   ]
  },
  {
   "cell_type": "markdown",
   "metadata": {},
   "source": [
    "*A learning exercise with an ultimate aim of using text mining in Python to identify patterns in Deputy meetings and provide a comprehensive source of information of the opinions expressed by deputies*"
   ]
  },
  {
   "cell_type": "markdown",
   "metadata": {},
   "source": [
    "I've chosen to persue this as the steps involved require a mix of disciplines, all of which should help expand my skills in both practical performance of analytics as well as code management. \n",
    "\n",
    "**Storage and Management**\n",
    "SharePoint will be used primarily to store any files but they will be managed as a GitHub repository. \n",
    "\n",
    "**Presentation** \n",
    "Jupyter Notebooks will be used in order to document any decisions made and the process undertaken to analyse or manipulate data\n",
    "\n",
    "**Data Collection** \n",
    "Most initial data wil be imported manually at this stage - web scraping to look at later\n",
    "\n",
    "**Data Transformation and Analysis**\n",
    "Initial data transformation and analysis will be performed in Python. Packages for PDF reading and sentiment analysis will be required"
   ]
  },
  {
   "cell_type": "code",
   "execution_count": null,
   "metadata": {},
   "outputs": [],
   "source": []
  }
 ],
 "metadata": {
  "kernelspec": {
   "display_name": "Python 3",
   "language": "python",
   "name": "python3"
  },
  "language_info": {
   "codemirror_mode": {
    "name": "ipython",
    "version": 3
   },
   "file_extension": ".py",
   "mimetype": "text/x-python",
   "name": "python",
   "nbconvert_exporter": "python",
   "pygments_lexer": "ipython3",
   "version": "3.9.0"
  }
 },
 "nbformat": 4,
 "nbformat_minor": 4
}
